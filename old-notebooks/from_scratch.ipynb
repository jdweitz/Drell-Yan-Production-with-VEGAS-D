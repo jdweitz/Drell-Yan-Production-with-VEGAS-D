{
 "cells": [
  {
   "cell_type": "markdown",
   "metadata": {},
   "source": [
    "# 3 Drell-Yan Event Generator with VEGAS\n",
    "Consider the Drell-Yan production process at an electron-positron collider, in which an electron and positron\n",
    "collide to produce a virtual photon or a Z boson that then decays into a muon-antimuon pair,\n",
    "$e^+e^- \\rightarrow Z/\\gamma \\rightarrow \\mu^+\\mu^-$. As described in lecture and in Ref. [5], the differential cross section for center-of-mass energy $E_{CM} = \\sqrt{\\hat{s}}$ and scattering angle $\\theta$ is given by\n",
    "\n",
    "$$\\frac{d\\sigma}{d\\Omega}(\\hat{s}, \\cos \\theta) = \\frac{\\alpha^2}{4\\hat{s}} \\left[ A_0(\\hat{s})(1 + \\cos^2\\theta) + A_1(\\hat{s}) \\cos \\theta \\right],$$\n",
    "\n",
    "Where $A_0$ and $A_1$ are given by\n",
    "\n",
    "$$\n",
    "A_0(\\hat{s}) = Q_e^2 - 2Q_eV_\\mu V_e \\chi_1(\\hat{s}) + (A_\\mu^2 + V_\\mu^2)(A_e^2 + V_e^2) \\chi_2(\\hat{s}),\n",
    "$$\n",
    "\n",
    "$$\n",
    "A_1(\\hat{s}) = -4Q_eA_\\mu A_e \\chi_1(\\hat{s}) + 8A_\\mu V_\\mu A_e V_e \\chi_2(\\hat{s}),\n",
    "$$\n",
    "\n",
    "and the $\\chi_1$ and $\\chi_2$ are given by\n",
    "\n",
    "$$\n",
    "\\chi_1(\\hat{s}) = \\frac{\\kappa\\hat{s}(\\hat{s} - M_Z^2)}{(\\hat{s} - M_Z^2)^2 + \\Gamma_Z^2 M_Z^2},\n",
    "$$\n",
    "\n",
    "$$\n",
    "\\chi_2(\\hat{s}) = \\frac{\\kappa^2 \\hat{s}^2}{(\\hat{s} - M_Z^2)^2 + \\Gamma_Z^2 M_Z^2},\n",
    "$$\n",
    "\n",
    "$$\n",
    "\\kappa = \\frac{\\sqrt{2}G_F M_Z^2}{4\\pi\\alpha}.\n",
    "$$\n",
    "\n",
    "Useful constants are given in the tables below.\n",
    "\n",
    "| Fermions        | $Q_f$ | $V_f$                                | $A_f$ |\n",
    "|-----------------|-------|--------------------------------------|-------|\n",
    "| $u, c, t$       | $+\\frac{2}{3}$ | $\\left(+\\frac{1}{2} - \\frac{4}{3}\\sin^2\\theta_W\\right)$ | $+\\frac{1}{2}$ |\n",
    "| $d, s, b$       | $-\\frac{1}{3}$ | $\\left(-\\frac{1}{2} - \\frac{2}{3}\\sin^2\\theta_W\\right)$ | $-\\frac{1}{2}$ |\n",
    "| $\\nu_e, \\nu_\\mu, \\nu_\\tau$ | $0$ | $\\frac{1}{2}$ | $+\\frac{1}{2}$ |\n",
    "| $e, \\mu, \\tau$  | $-1$ | $\\left(-\\frac{1}{2} + 2\\sin^2\\theta_W\\right)$ | $-\\frac{1}{2}$ |\n",
    "\n",
    "| Variable                | Symbol            | Value                                                   |\n",
    "|-------------------------|-------------------|---------------------------------------------------------|\n",
    "| conversion factor       | $GeV−2 ↔ pb$      | $3.894 \\times 10^8 \\, \\text{pb} = 1 \\, \\text{GeV}^{-2}$ |\n",
    "| Z boson mass            | $M_Z$             | $91.188 \\, \\text{GeV}$                                  |\n",
    "| Z boson width           | $\\Gamma_Z$        | $2.4414 \\, \\text{GeV}$                                  |\n",
    "| QED running coupling    | $\\alpha$          | $\\frac{1}{132.507}$                                     |\n",
    "| Fermi constant          | $G_F$             | $1.16639 \\times 10^{-5} \\, \\text{GeV}^{-2}$             |\n",
    "| Weinberg angle          | $\\sin^2\\theta_W$  | $0.222246$                                              |"
   ]
  },
  {
   "cell_type": "code",
   "execution_count": 4,
   "metadata": {},
   "outputs": [],
   "source": [
    "# import the required libraries\n",
    "import numpy as np\n",
    "import matplotlib as mpl\n",
    "import matplotlib.pyplot as plt"
   ]
  },
  {
   "cell_type": "code",
   "execution_count": 5,
   "metadata": {},
   "outputs": [
    {
     "data": {
      "text/plain": [
       "(10.0, 200.0, -1.0, 1.0, 100.0, 40000.0)"
      ]
     },
     "execution_count": 5,
     "metadata": {},
     "output_type": "execute_result"
    }
   ],
   "source": [
    "# Define range for E_CM (Energy in the Center-of-Mass frame) and cos(θ)\n",
    "E_CM = np.linspace(10, 200, 100)  # Generating 100 points between 10 and 200 GeV\n",
    "cos_theta = np.linspace(-1, 1, 100)  # Generating 100 points between -1 and 1\n",
    "\n",
    "s = np.linspace(100, 4000, 100) # Important to define this range and not make dependent on E_CM, vice-versa\n",
    "\n",
    "s = E_CM ** 2 # Generate range for s (E_CM^2) \n",
    "\n",
    "# Displaying the start and end of each range as a confirmation\n",
    "(E_CM[0], E_CM[-1], cos_theta[0], cos_theta[-1], s[0], s[-1])\n"
   ]
  },
  {
   "cell_type": "code",
   "execution_count": 12,
   "metadata": {},
   "outputs": [
    {
     "data": {
      "text/plain": [
       "{'Conversion Factor (GeV^-2 to pb)': 389400000.0,\n",
       " 'Z Boson Mass (MZ) [GeV]': 91.188,\n",
       " 'Z Boson Width (ΓZ) [GeV]': 2.4414,\n",
       " 'QED Running Coupling (α^-1)': 0.0075467711139788835,\n",
       " 'Fermi Constant (GF) [GeV^-2]': 1.1663900000000002e-05,\n",
       " 'Weinberg Angle (sin^2 θW)': 0.222246}"
      ]
     },
     "execution_count": 12,
     "metadata": {},
     "output_type": "execute_result"
    }
   ],
   "source": [
    "# Define constants\n",
    "\n",
    "# Conversion factor from GeV^-2 to picobarns (pb)\n",
    "conversion_factor_GeV2_to_pb = 3.894 * (10**8)  # 1 GeV^-2 = 3.894 × 10^8 pb\n",
    "\n",
    "# Z boson properties\n",
    "MZ = 91.188  # Z boson mass in GeV\n",
    "GammaZ = 2.4414  # Z boson width in GeV\n",
    "\n",
    "# QED running coupling\n",
    "alpha = 1 / 132.507  # Inverse of the QED running coupling\n",
    "\n",
    "# Fermi constant\n",
    "GF = 1.16639 * (10**-5)  # GeV^-2\n",
    "\n",
    "# Weinberg angle\n",
    "sin2_thetaW = 0.222246  # Sine squared of the Weinberg angle\n",
    "\n",
    "# Adding labels for clarity before displaying each variable\n",
    "\n",
    "labels_and_variables = {\n",
    "    \"Conversion Factor (GeV^-2 to pb)\": conversion_factor_GeV2_to_pb,\n",
    "    \"Z Boson Mass (MZ) [GeV]\": MZ,\n",
    "    \"Z Boson Width (ΓZ) [GeV]\": GammaZ,\n",
    "    \"QED Running Coupling (α^-1)\": alpha,\n",
    "    \"Fermi Constant (GF) [GeV^-2]\": GF,\n",
    "    \"Weinberg Angle (sin^2 θW)\": sin2_thetaW\n",
    "}\n",
    "\n",
    "labels_and_variables"
   ]
  },
  {
   "cell_type": "code",
   "execution_count": 13,
   "metadata": {},
   "outputs": [
    {
     "data": {
      "text/plain": [
       "{'Electric Charge (Qf) for u, c, t Quarks': 0.6666666666666666,\n",
       " 'Vector Coupling (Vf) for u, c, t Quarks': 0.20367200000000002,\n",
       " 'Axial Vector Coupling (Af) for u, c, t Quarks': 0.5,\n",
       " 'Electric Charge (Qf) for d, s, b Quarks': -0.3333333333333333,\n",
       " 'Vector Coupling (Vf) for d, s, b Quarks': -0.648164,\n",
       " 'Axial Vector Coupling (Af) for d, s, b Quarks': -0.5,\n",
       " 'Electric Charge (Qf) for Neutrinos': 0,\n",
       " 'Vector Coupling (Vf) for Neutrinos': 0.5,\n",
       " 'Axial Vector Coupling (Af) for Neutrinos': 0.5,\n",
       " 'Electric Charge (Qf) for Leptons (e, μ, τ)': -1,\n",
       " 'Vector Coupling (Vf) for Leptons (e, μ, τ)': -0.055508,\n",
       " 'Axial Vector Coupling (Af) for Leptons (e, μ, τ)': -0.5}"
      ]
     },
     "execution_count": 13,
     "metadata": {},
     "output_type": "execute_result"
    }
   ],
   "source": [
    "# Define Fermions\n",
    "\n",
    "# Up-type quarks (u, c, t)\n",
    "Qf_u_c_t = 2/3\n",
    "Vf_u_c_t = 1/2 - (4/3)*sin2_thetaW\n",
    "Af_u_c_t = 1/2\n",
    "\n",
    "# Down-type quarks (d, s, b)\n",
    "Qf_d_s_b = -1/3\n",
    "Vf_d_s_b = -1/2 - (2/3)*sin2_thetaW\n",
    "Af_d_s_b = -1/2\n",
    "\n",
    "# Neutrinos (νe, νμ, ντ)\n",
    "Qf_neutrinos = 0\n",
    "Vf_neutrinos = 1/2\n",
    "Af_neutrinos = 1/2\n",
    "\n",
    "# Charged leptons (e, μ, τ)\n",
    "Qf_leptons = -1\n",
    "Vf_leptons = -1/2 + 2*sin2_thetaW\n",
    "Af_leptons = -1/2\n",
    "\n",
    "labels_and_variables_fermions = {\n",
    "    \"Electric Charge (Qf) for u, c, t Quarks\": Qf_u_c_t,\n",
    "    \"Vector Coupling (Vf) for u, c, t Quarks\": Vf_u_c_t,\n",
    "    \"Axial Vector Coupling (Af) for u, c, t Quarks\": Af_u_c_t,\n",
    "    \"Electric Charge (Qf) for d, s, b Quarks\": Qf_d_s_b,\n",
    "    \"Vector Coupling (Vf) for d, s, b Quarks\": Vf_d_s_b,\n",
    "    \"Axial Vector Coupling (Af) for d, s, b Quarks\": Af_d_s_b,\n",
    "    \"Electric Charge (Qf) for Neutrinos\": Qf_neutrinos,\n",
    "    \"Vector Coupling (Vf) for Neutrinos\": Vf_neutrinos,\n",
    "    \"Axial Vector Coupling (Af) for Neutrinos\": Af_neutrinos,\n",
    "    \"Electric Charge (Qf) for Leptons (e, μ, τ)\": Qf_leptons,\n",
    "    \"Vector Coupling (Vf) for Leptons (e, μ, τ)\": Vf_leptons,\n",
    "    \"Axial Vector Coupling (Af) for Leptons (e, μ, τ)\": Af_leptons\n",
    "}\n",
    "\n",
    "labels_and_variables_fermions"
   ]
  },
  {
   "cell_type": "code",
   "execution_count": 14,
   "metadata": {},
   "outputs": [],
   "source": [
    "# Define equations\n",
    "\n",
    "#from sympy import sqrt, pi\n",
    "\n",
    "# Defining kappa (κ) according to the given formula\n",
    "def kappa(GF, MZ, alpha):\n",
    "    return np.sqrt(2)*GF*MZ**2/(4*np.pi*alpha)\n",
    "\n",
    "# Defining χ1(s) according to the given equation\n",
    "def chi1(s, MZ, GammaZ, GF, alpha):\n",
    "    k = kappa(GF, MZ, alpha)\n",
    "    return k * s * (s - MZ**2) / ((s - MZ**2)**2 + (GammaZ**2)*(MZ**2))\n",
    "\n",
    "# Defining χ2(s) according to the given equation\n",
    "def chi2(s, MZ, GammaZ, GF, alpha):\n",
    "    k = kappa(GF, MZ, alpha)\n",
    "    return k**2 * s**2 / ((s - MZ**2)**2 + (GammaZ**2)*(MZ**2))"
   ]
  },
  {
   "cell_type": "code",
   "execution_count": 15,
   "metadata": {},
   "outputs": [
    {
     "data": {
      "text/plain": [
       "1.446315778150239"
      ]
     },
     "execution_count": 15,
     "metadata": {},
     "output_type": "execute_result"
    }
   ],
   "source": [
    "# check kappa\n",
    "\n",
    "kappa(GF=GF, MZ=MZ, alpha=alpha)"
   ]
  },
  {
   "cell_type": "code",
   "execution_count": 16,
   "metadata": {},
   "outputs": [],
   "source": [
    "# Define specfic fermions\n",
    "\n"
   ]
  },
  {
   "cell_type": "code",
   "execution_count": 17,
   "metadata": {},
   "outputs": [],
   "source": [
    "def A0(s, Qe, Vmu, Vnu, Amu, Ave, chi1, chi2):\n",
    "    return Qe**2 - 2*Qe*Vmu*Vnu*chi1(s, MZ, GammaZ, GF, alpha) + (Amu**2 + Vmu**2)*(Ave**2 + Vnu**2)*chi2(s, MZ, GammaZ, GF, alpha)\n"
   ]
  },
  {
   "cell_type": "code",
   "execution_count": 18,
   "metadata": {},
   "outputs": [],
   "source": [
    "def A1(s, Qe, Amu, Ave, chi1, chi2):\n",
    "    return -4*Qe*Amu*Ave*chi1(s, MZ, GammaZ, GF, alpha) + 8*Amu*Vmu*Ave*Vnu*chi2(s, MZ, GammaZ, GF, alpha)\n"
   ]
  },
  {
   "cell_type": "code",
   "execution_count": null,
   "metadata": {},
   "outputs": [],
   "source": [
    "# Differential Cross Section for center of mass energy and scattering angle\n",
    "\n"
   ]
  },
  {
   "cell_type": "code",
   "execution_count": 17,
   "metadata": {},
   "outputs": [],
   "source": [
    "# Find maximum, try scipy or another method\n",
    "\n"
   ]
  },
  {
   "cell_type": "code",
   "execution_count": null,
   "metadata": {},
   "outputs": [],
   "source": []
  }
 ],
 "metadata": {
  "kernelspec": {
   "display_name": "Python 3 (ipykernel)",
   "language": "python",
   "name": "python3"
  },
  "language_info": {
   "codemirror_mode": {
    "name": "ipython",
    "version": 3
   },
   "file_extension": ".py",
   "mimetype": "text/x-python",
   "name": "python",
   "nbconvert_exporter": "python",
   "pygments_lexer": "ipython3",
   "version": "3.9.5"
  }
 },
 "nbformat": 4,
 "nbformat_minor": 2
}
